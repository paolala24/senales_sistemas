{
  "nbformat": 4,
  "nbformat_minor": 0,
  "metadata": {
    "colab": {
      "provenance": [],
      "include_colab_link": true
    },
    "kernelspec": {
      "name": "python3",
      "display_name": "Python 3"
    },
    "widgets": {
      "application/vnd.jupyter.widget-state+json": {
        "596407f193d647f1ba1c4ee2b7fd9e18": {
          "model_module": "@jupyter-widgets/controls",
          "model_name": "VBoxModel",
          "model_module_version": "1.5.0",
          "state": {
            "_dom_classes": [
              "widget-interact"
            ],
            "_model_module": "@jupyter-widgets/controls",
            "_model_module_version": "1.5.0",
            "_model_name": "VBoxModel",
            "_view_count": null,
            "_view_module": "@jupyter-widgets/controls",
            "_view_module_version": "1.5.0",
            "_view_name": "VBoxView",
            "box_style": "",
            "children": [
              "IPY_MODEL_0be1386f79cc4b0a974dfdf1505d5c79",
              "IPY_MODEL_7ec689b07a0340329d6def6695e54dfb"
            ],
            "layout": "IPY_MODEL_f48bcdbef6504e0d8fda953e79f13cbc"
          }
        },
        "0be1386f79cc4b0a974dfdf1505d5c79": {
          "model_module": "@jupyter-widgets/controls",
          "model_name": "IntSliderModel",
          "model_module_version": "1.5.0",
          "state": {
            "_dom_classes": [],
            "_model_module": "@jupyter-widgets/controls",
            "_model_module_version": "1.5.0",
            "_model_name": "IntSliderModel",
            "_view_count": null,
            "_view_module": "@jupyter-widgets/controls",
            "_view_module_version": "1.5.0",
            "_view_name": "IntSliderView",
            "continuous_update": true,
            "description": "k",
            "description_tooltip": null,
            "disabled": false,
            "layout": "IPY_MODEL_c0c34c83fb4e4f7b836faaee62584b8a",
            "max": 14,
            "min": 0,
            "orientation": "horizontal",
            "readout": true,
            "readout_format": "d",
            "step": 1,
            "style": "IPY_MODEL_876b958f6eee4cfdaeb8423e6acbbefb",
            "value": 0
          }
        },
        "7ec689b07a0340329d6def6695e54dfb": {
          "model_module": "@jupyter-widgets/output",
          "model_name": "OutputModel",
          "model_module_version": "1.0.0",
          "state": {
            "_dom_classes": [],
            "_model_module": "@jupyter-widgets/output",
            "_model_module_version": "1.0.0",
            "_model_name": "OutputModel",
            "_view_count": null,
            "_view_module": "@jupyter-widgets/output",
            "_view_module_version": "1.0.0",
            "_view_name": "OutputView",
            "layout": "IPY_MODEL_0747fd862ca44534a8d1b5d328a55839",
            "msg_id": "",
            "outputs": [
              {
                "output_type": "display_data",
                "data": {
                  "text/plain": "<Figure size 640x480 with 1 Axes>",
                  "image/png": "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\n"
                },
                "metadata": {}
              }
            ]
          }
        },
        "f48bcdbef6504e0d8fda953e79f13cbc": {
          "model_module": "@jupyter-widgets/base",
          "model_name": "LayoutModel",
          "model_module_version": "1.2.0",
          "state": {
            "_model_module": "@jupyter-widgets/base",
            "_model_module_version": "1.2.0",
            "_model_name": "LayoutModel",
            "_view_count": null,
            "_view_module": "@jupyter-widgets/base",
            "_view_module_version": "1.2.0",
            "_view_name": "LayoutView",
            "align_content": null,
            "align_items": null,
            "align_self": null,
            "border": null,
            "bottom": null,
            "display": null,
            "flex": null,
            "flex_flow": null,
            "grid_area": null,
            "grid_auto_columns": null,
            "grid_auto_flow": null,
            "grid_auto_rows": null,
            "grid_column": null,
            "grid_gap": null,
            "grid_row": null,
            "grid_template_areas": null,
            "grid_template_columns": null,
            "grid_template_rows": null,
            "height": null,
            "justify_content": null,
            "justify_items": null,
            "left": null,
            "margin": null,
            "max_height": null,
            "max_width": null,
            "min_height": null,
            "min_width": null,
            "object_fit": null,
            "object_position": null,
            "order": null,
            "overflow": null,
            "overflow_x": null,
            "overflow_y": null,
            "padding": null,
            "right": null,
            "top": null,
            "visibility": null,
            "width": null
          }
        },
        "c0c34c83fb4e4f7b836faaee62584b8a": {
          "model_module": "@jupyter-widgets/base",
          "model_name": "LayoutModel",
          "model_module_version": "1.2.0",
          "state": {
            "_model_module": "@jupyter-widgets/base",
            "_model_module_version": "1.2.0",
            "_model_name": "LayoutModel",
            "_view_count": null,
            "_view_module": "@jupyter-widgets/base",
            "_view_module_version": "1.2.0",
            "_view_name": "LayoutView",
            "align_content": null,
            "align_items": null,
            "align_self": null,
            "border": null,
            "bottom": null,
            "display": null,
            "flex": null,
            "flex_flow": null,
            "grid_area": null,
            "grid_auto_columns": null,
            "grid_auto_flow": null,
            "grid_auto_rows": null,
            "grid_column": null,
            "grid_gap": null,
            "grid_row": null,
            "grid_template_areas": null,
            "grid_template_columns": null,
            "grid_template_rows": null,
            "height": null,
            "justify_content": null,
            "justify_items": null,
            "left": null,
            "margin": null,
            "max_height": null,
            "max_width": null,
            "min_height": null,
            "min_width": null,
            "object_fit": null,
            "object_position": null,
            "order": null,
            "overflow": null,
            "overflow_x": null,
            "overflow_y": null,
            "padding": null,
            "right": null,
            "top": null,
            "visibility": null,
            "width": null
          }
        },
        "876b958f6eee4cfdaeb8423e6acbbefb": {
          "model_module": "@jupyter-widgets/controls",
          "model_name": "SliderStyleModel",
          "model_module_version": "1.5.0",
          "state": {
            "_model_module": "@jupyter-widgets/controls",
            "_model_module_version": "1.5.0",
            "_model_name": "SliderStyleModel",
            "_view_count": null,
            "_view_module": "@jupyter-widgets/base",
            "_view_module_version": "1.2.0",
            "_view_name": "StyleView",
            "description_width": "",
            "handle_color": null
          }
        },
        "0747fd862ca44534a8d1b5d328a55839": {
          "model_module": "@jupyter-widgets/base",
          "model_name": "LayoutModel",
          "model_module_version": "1.2.0",
          "state": {
            "_model_module": "@jupyter-widgets/base",
            "_model_module_version": "1.2.0",
            "_model_name": "LayoutModel",
            "_view_count": null,
            "_view_module": "@jupyter-widgets/base",
            "_view_module_version": "1.2.0",
            "_view_name": "LayoutView",
            "align_content": null,
            "align_items": null,
            "align_self": null,
            "border": null,
            "bottom": null,
            "display": null,
            "flex": null,
            "flex_flow": null,
            "grid_area": null,
            "grid_auto_columns": null,
            "grid_auto_flow": null,
            "grid_auto_rows": null,
            "grid_column": null,
            "grid_gap": null,
            "grid_row": null,
            "grid_template_areas": null,
            "grid_template_columns": null,
            "grid_template_rows": null,
            "height": null,
            "justify_content": null,
            "justify_items": null,
            "left": null,
            "margin": null,
            "max_height": null,
            "max_width": null,
            "min_height": null,
            "min_width": null,
            "object_fit": null,
            "object_position": null,
            "order": null,
            "overflow": null,
            "overflow_x": null,
            "overflow_y": null,
            "padding": null,
            "right": null,
            "top": null,
            "visibility": null,
            "width": null
          }
        }
      }
    }
  },
  "cells": [
    {
      "cell_type": "markdown",
      "metadata": {
        "id": "view-in-github",
        "colab_type": "text"
      },
      "source": [
        "<a href=\"https://colab.research.google.com/github/paolala24/senales_sistemas/blob/main/2_SLIT/Convolucion_Discreta.ipynb\" target=\"_parent\"><img src=\"https://colab.research.google.com/assets/colab-badge.svg\" alt=\"Open In Colab\"/></a>"
      ]
    },
    {
      "cell_type": "markdown",
      "metadata": {
        "id": "ltZFXHh6H_8Z"
      },
      "source": [
        "# Convolución discreta y SLITs\n",
        "\n",
        "- A continuación se ilustra el proceso de convolución y respuesta al impulso para resolver sistemas lineales e invariantes en el tiempo (SLIT) discreto.\n",
        "\n",
        "- Dada la respuesta al impulso en tiempo discreto $h[n]\\in\\mathbb{R},\\mathbb{C}$ de un SLIT $\\mathsf{H}\\{\\cdot\\},$ la respuesta del sistema $y[n]\\in\\mathbb{R},\\mathbb{C}$ ante la entrada discreta $x[n]\\in\\mathbb{R},\\mathbb{C}$, se puede calcular mediante el operador convolución:\n",
        "\n",
        "$$y[n]=x[n]*h[n] = \\sum^\\infty_{k=-\\infty}x[k]h[n-k].$$\n",
        "\n",
        "- En general, se cuenta con vectores de tamaño finito, y con sistemas causales, por ende, si $x[n]$ cuenta con $N$ elementos y $h[n]$ con $L$ elementos, la salida $y[n]$ tendra, en el mejor de los casos, $M = N + L - 1$ elementos distintos de 0 (ver [interpretación gráfica convolución](https://en.wikipedia.org/wiki/Convolution)).\n",
        "\n",
        "\n",
        "**Ejemplo**\n",
        "\n",
        "- Se presenta la simulación del cálculo de la salida de un SLIT en tiempo discreto utilizando la respuesta al impulso y la convolución discreta implementando punto a punto el proceso de suma y comparando los resultados con la librería [convolve](https://numpy.org/doc/stable/reference/generated/numpy.convolve.html) de numpy."
      ]
    },
    {
      "cell_type": "code",
      "metadata": {
        "id": "XVcI_Xk2_U2Y"
      },
      "source": [
        "%matplotlib inline\n",
        "from ipywidgets import interact #crear graficos interactivos\n",
        "import numpy as np\n",
        "import matplotlib.pyplot as plt\n",
        "from scipy import signal #crear señales prototipo en tiempo discreto\n"
      ],
      "execution_count": 1,
      "outputs": []
    },
    {
      "cell_type": "code",
      "metadata": {
        "id": "ckohmENyAH1j",
        "outputId": "378bb729-ca24-4b11-e66d-9a00ae3f5f4e",
        "colab": {
          "base_uri": "https://localhost:8080/"
        }
      },
      "source": [
        "#crear señales\n",
        "#h = np.array([1,-2,0,1,-2]).reshape(-1,1)#np.r_[np.zeros((5,1)),np.ones((5,1)),np.zeros((5,1))] # se genera un pulso rectangular\n",
        "hu = np.array([-1,6,-10,3,1,-10,2,5])\n",
        "h = np.diff(hu).reshape(-1,1)\n",
        "x = np.array([-15,5,-3,0,5,7,-1]).reshape(-1,1)#signal.triang(12).reshape(-1,1) # se genera una señal triangular y se trabaja con arreglos tipo columna\n",
        "#funcion convolucion\n",
        "def convgraf(h,x): #función general para pintar proceso de convolución de forma interactiva\n",
        "   lx = len(x)\n",
        "   lh = len(h)\n",
        "   M = 2*lx+lh # se genera un vector de tamaño completo para visualizar todo el proceso paso a paso\n",
        "   xm = np.zeros((M,M))\n",
        "   hm = np.r_[np.zeros((lx,1)),h,np.zeros((lx,1))]\n",
        "   ym = np.zeros((M,M))\n",
        "   for i in range(M-lx+1):\n",
        "     #print(i)\n",
        "     xm[i:i+lx,i] = np.flip(x).reshape(-1)#filp realizar el proceso de reflejo sobre arreglos discretos\n",
        "     ym[i,i] = xm[:,i].T.dot(hm) #multiplicacion entre vectores -> producto punto\n",
        "   return xm, ym, hm\n",
        "\n",
        "def plot_conv(k,xm,ym,hm): #dibujar arreglos\n",
        "     plt.stem(xm[:,k],markerfmt='+',label='$x[k]$')\n",
        "     plt.stem(hm,linefmt='g',markerfmt='.',label='$h[n-k]$')\n",
        "     plt.stem(ym[:k,:].sum(axis=0),markerfmt='s',linefmt='r',label='$y[n]=\\sum^{\\infty}_{k=-\\infty}x[k]h[n-k]$')\n",
        "     plt.legend()\n",
        "     plt.show()\n",
        "     return\n",
        "\n",
        "xm, ym, hm = convgraf(h,x)"
      ],
      "execution_count": 2,
      "outputs": [
        {
          "output_type": "stream",
          "name": "stderr",
          "text": [
            "/tmp/ipython-input-2-3146691479.py:17: DeprecationWarning: Conversion of an array with ndim > 0 to a scalar is deprecated, and will error in future. Ensure you extract a single element from your array before performing this operation. (Deprecated NumPy 1.25.)\n",
            "  ym[i,i] = xm[:,i].T.dot(hm) #multiplicacion entre vectores -> producto punto\n"
          ]
        }
      ]
    },
    {
      "cell_type": "code",
      "metadata": {
        "id": "-EPYt_Z2_M5e",
        "colab": {
          "base_uri": "https://localhost:8080/",
          "height": 462,
          "referenced_widgets": [
            "596407f193d647f1ba1c4ee2b7fd9e18",
            "0be1386f79cc4b0a974dfdf1505d5c79",
            "7ec689b07a0340329d6def6695e54dfb",
            "f48bcdbef6504e0d8fda953e79f13cbc",
            "c0c34c83fb4e4f7b836faaee62584b8a",
            "876b958f6eee4cfdaeb8423e6acbbefb",
            "0747fd862ca44534a8d1b5d328a55839"
          ]
        },
        "outputId": "9deceb66-a413-4e8e-92bc-6c87dfe40a17"
      },
      "source": [
        "#@interact(m=range(xm.shape[0]-len(x)+1)) #define panel tipo selección en el gráfico interactivo\n",
        "@interact(k=(0, xm.shape[0]-len(x), 1))\n",
        "def show_frame(k=0):\n",
        "    plot_conv(k,xm,ym,hm)\n",
        "plt.show()"
      ],
      "execution_count": 3,
      "outputs": [
        {
          "output_type": "display_data",
          "data": {
            "text/plain": [
              "interactive(children=(IntSlider(value=0, description='k', max=14), Output()), _dom_classes=('widget-interact',…"
            ],
            "application/vnd.jupyter.widget-view+json": {
              "version_major": 2,
              "version_minor": 0,
              "model_id": "596407f193d647f1ba1c4ee2b7fd9e18"
            }
          },
          "metadata": {}
        }
      ]
    },
    {
      "cell_type": "markdown",
      "metadata": {
        "id": "gZvIFK0Qmrbu"
      },
      "source": [
        "**Nota**: Para resolver SLIT en tiempo discreto respecto a su respuesta escalón, puede utilizar el operador de derivada en tiempo discreto de numpy [diferencia discreta](https://numpy.org/doc/stable/reference/generated/numpy.diff.html) para estimar la respuesta al impulso $h[n]$ desde la respueta escalón $\\mathsf{H}\\{\\epsilon[n]\\}.$\n",
        "\n",
        "- El paquete numpy tiene implementado la convolución discreta (Ver [numpy.convolve](https://numpy.org/doc/stable/reference/generated/numpy.convolve.html))."
      ]
    },
    {
      "cell_type": "code",
      "metadata": {
        "id": "H1Dis0ruH4JV",
        "outputId": "684974f1-faef-4a0c-b198-34beb7ef5ab4",
        "colab": {
          "base_uri": "https://localhost:8080/"
        }
      },
      "source": [
        "y_ = np.convolve(x.reshape(-1),h.reshape(-1))\n",
        "y_"
      ],
      "execution_count": 4,
      "outputs": [
        {
          "output_type": "execute_result",
          "data": {
            "text/plain": [
              "array([-105,  275, -296,  143,  151, -260,   -6,   76,  -91,  -15,  110,\n",
              "          9,   -3])"
            ]
          },
          "metadata": {},
          "execution_count": 4
        }
      ]
    },
    {
      "cell_type": "code",
      "source": [],
      "metadata": {
        "id": "gs_n-vzvHLN-"
      },
      "execution_count": 4,
      "outputs": []
    }
  ]
}