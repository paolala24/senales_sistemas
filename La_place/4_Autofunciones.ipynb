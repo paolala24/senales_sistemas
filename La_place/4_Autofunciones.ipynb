{
  "nbformat": 4,
  "nbformat_minor": 0,
  "metadata": {
    "colab": {
      "provenance": [],
      "include_colab_link": true
    },
    "language_info": {
      "codemirror_mode": {
        "name": "ipython",
        "version": 3
      },
      "file_extension": ".py",
      "mimetype": "text/x-python",
      "name": "python",
      "nbconvert_exporter": "python",
      "pygments_lexer": "ipython3",
      "version": "3.6.4"
    },
    "kernelspec": {
      "display_name": "Python 3",
      "language": "python",
      "name": "python3"
    }
  },
  "cells": [
    {
      "cell_type": "markdown",
      "metadata": {
        "id": "view-in-github",
        "colab_type": "text"
      },
      "source": [
        "<a href=\"https://colab.research.google.com/github/paolala24/senales_sistemas/blob/main/La_place/4_Autofunciones.ipynb\" target=\"_parent\"><img src=\"https://colab.research.google.com/assets/colab-badge.svg\" alt=\"Open In Colab\"/></a>"
      ]
    },
    {
      "cell_type": "markdown",
      "metadata": {
        "nbsphinx": "hidden",
        "id": "buAkuZ-JvWzT"
      },
      "source": [
        "# Caracterización de sistemas en el dominio del tiempo y la transformada de Laplace\n",
        "\n",
        "*This Jupyter notebook is part of a [collection of notebooks](../index.ipynb) in the bachelors module Signals and Systems, Communications Engineering, Universität Rostock. Please direct questions and suggestions to [Sascha.Spors@uni-rostock.de](mailto:Sascha.Spors@uni-rostock.de).*"
      ]
    },
    {
      "cell_type": "markdown",
      "metadata": {
        "id": "DWtWi0EivWzZ"
      },
      "source": [
        "## Eigenfunctions - Autofunciones\n",
        "\n",
        "- Una [autofunción](https://en.wikipedia.org/wiki/Eigenfunction) (También llamada función propia) de un sistema se define como la señal de entrada $x(t)$ que produce la señal de salida $y(t)=\\mathscr{H} \\{x(t)\\}=\\lambda \\cdot x(t)$ con $\\lambda \\in \\mathbb{C}$.\n",
        "\n",
        "- El peso $\\lambda$ asociado con $x(t)$ se conoce como valor propio escalar del sistema. Por lo tanto, además de ser un factor de ponderación, una función propia no se modifica al pasar por el sistema.\n",
        "\n",
        "- Las señales exponenciales complejas $e^{st}$ con $s \\in \\mathbb{C}$ son funciones propias de un sistema lineal e invariante en el tiempo (SLIT). Esto se puede probar al aplicar las propiedades de los SLIT.\n",
        "\n",
        "- Se asume un SLIT generalizado con entrada $x(t) = e^{s t}$ y salida $y(t) = \\mathscr{H}\\{ x(t) \\}$. La respuesta del SLIT ante una entrada desplazada $x(t-\\tau) = e^{s (t-\\tau)}$ es\n",
        "\n",
        "\\begin{equation}\n",
        "y(t - \\tau) = \\mathscr{H}\\{ x(t-\\tau) \\} = \\mathscr{H}\\{ e^{-s \\tau} \\cdot e^{s t}  \\}\n",
        "\\end{equation}\n",
        "\n",
        "- Debido a la linealidad del sistema, la anterior igualdad se puede reformular así:\n",
        "\n",
        "\\begin{equation}\n",
        "y(t - \\tau) =  e^{-s \\tau} \\cdot \\mathscr{H}\\{ e^{s t}  \\} = e^{-s \\tau} \\cdot y(t)\n",
        "\\end{equation}\n",
        "\n",
        "- Por ende $y(t)=\\lambda e^{st} $, con $\\lambda = e^{-\\tau s}$."
      ]
    },
    {
      "cell_type": "markdown",
      "metadata": {
        "id": "cK7248FwvWzb"
      },
      "source": [
        "**Ejemplo**\n",
        "\n",
        "Se considera un SLIT cuya relación entrada/salida viene dada por la siguiente ecuación diferencial ordinaria (EDO) con coeficientes constantes:\n",
        "\n",
        "\\begin{equation}\n",
        "a_0 y(t) + a_1 \\frac{d y(t)}{dt} + a_2 \\frac{d^2 y(t)}{dt^2} = x(t)\n",
        "\\end{equation}\n",
        "\n",
        "Con $a_i \\in \\mathbb{R} \\quad \\forall i$.\n",
        "\n",
        "La señal de salida $y(t)$ del sistema se calcula mediante la solución explícita de la EDO para $x(t)=e^{st}$ como señal de entrada. Las constantes de integración se descartan para facilitar la ilustración."
      ]
    },
    {
      "cell_type": "code",
      "metadata": {
        "id": "6rspt7o-vWzf",
        "colab": {
          "base_uri": "https://localhost:8080/",
          "height": 56
        },
        "outputId": "036a34ed-5652-41a8-b938-fec3708f881b"
      },
      "source": [
        "%matplotlib inline\n",
        "import sympy as sym\n",
        "sym.init_printing()\n",
        "#definir variables\n",
        "t, s, a0, a1, a2 = sym.symbols('t s a:3')\n",
        "x = sym.exp(s * t)#entrada del sistema tipo euler compleja\n",
        "y = sym.Function('y')(t)\n",
        "#plantear EDO\n",
        "ode = sym.Eq(a0*y + a1*y.diff(t) + a2*y.diff(t,2), x)\n",
        "solution = sym.dsolve(ode)#resolver para condiciones iniciales 0\n",
        "solution.subs({'C1': 0, 'C2' : 0})"
      ],
      "execution_count": 1,
      "outputs": [
        {
          "output_type": "execute_result",
          "data": {
            "text/plain": [
              "              s⋅t       \n",
              "             ℯ          \n",
              "y(t) = ─────────────────\n",
              "                       2\n",
              "       a₀ + a₁⋅s + a₂⋅s "
            ],
            "text/latex": "$\\displaystyle y{\\left(t \\right)} = \\frac{e^{s t}}{a_{0} + a_{1} s + a_{2} s^{2}}$"
          },
          "metadata": {},
          "execution_count": 1
        }
      ]
    },
    {
      "cell_type": "markdown",
      "metadata": {
        "id": "I0bd3dz4vWzv"
      },
      "source": [
        "**Ejercicio**\n",
        "\n",
        "* Qué relación tiene $\\lambda$ con el la salida obtenida al resolver la EDO?\n",
        "* Puede generalizar sus resultados a una EDO de orden arbitrario?"
      ]
    },
    {
      "cell_type": "markdown",
      "source": [
        "$\\lambda$$\\lambda$ es el valor propio asociado a la autofunción $e^{st}$$e^{st}$. En el contexto de los sistemas lineales e invariantes en el tiempo (SLIT), la salida $y(t)$$y(t)$ cuando la entrada es $e^{st}$$e^{st}$ es $y(t) = \\lambda e^{st}$$y(t) = \\lambda e^{st}$. Al resolver la EDO para la entrada $e^{st}$$e^{st}$, obtienes una solución de la forma $y(t) = C e^{st}$$y(t) = C e^{st}$, donde $C$$C$ dependerá de los coeficientes de la EDO. Al comparar esta solución con la forma general $y(t) = \\lambda e^{st}$$y(t) = \\lambda e^{st}$, puedes encontrar la relación entre $\\lambda$$\\lambda$ y los coeficientes de la EDO.\n",
        "\n",
        "Para el segundo ejercicio, puedes generalizar el enfoque para una EDO de orden arbitrario. Una EDO lineal de orden $n$$n$ con coeficientes constantes tiene la forma:\n",
        "\n",
        "$$ a_0 y(t) + a_1 \\frac{d y(t)}{dt} + \\dots + a_n \\frac{d^n y(t)}{dt^n} = x(t) $$$$ a_0 y(t) + a_1 \\frac{d y(t)}{dt} + \\dots + a_n \\frac{d^n y(t)}{dt^n} = x(t) $$\n",
        "\n",
        "Si la entrada es $x(t) = e^{st}$$x(t) = e^{st}$, la salida esperada para un SLIT es $y(t) = \\lambda e^{st}$$y(t) = \\lambda e^{st}$. Sustituyendo esta forma de $y(t)$$y(t)$ en la EDO, obtendrás una expresión que te permitirá despejar $\\lambda$$\\lambda$ en función de $s$$s$ y los coeficientes $a_i$$a_i$. Esta expresión generalizada para $\\lambda$$\\lambda$ será la función de transferencia $H(s)$$H(s)$ del sistema."
      ],
      "metadata": {
        "id": "MIRJR3AFmkl-"
      }
    },
    {
      "cell_type": "markdown",
      "metadata": {
        "id": "EQ26PD60vWzx"
      },
      "source": [
        "Ejercicio 1: Relación entre $\\lambda$$\\lambda$ y la solución de la EDO\n",
        "\n",
        "En el contexto de los Sistemas Lineales e Invariantes en el Tiempo (SLIT), las funciones exponenciales complejas de la forma $e^{st}$$e^{st}$ (donde $s$$s$ es una frecuencia compleja) son muy especiales. Se les llama autofunciones porque cuando una de estas señales entra a un SLIT, la señal de salida es la misma función exponencial compleja, pero multiplicada por un escalar complejo. Este escalar es lo que llamamos $\\lambda$$\\lambda$, el valor propio. Es decir, si la entrada es $x(t) = e^{st}$$x(t) = e^{st}$, la salida $y(t)$$y(t)$ será $y(t) = \\lambda \\cdot e^{st}$$y(t) = \\lambda \\cdot e^{st}$. El sistema simplemente escala la entrada exponencial sin cambiar su forma.\n",
        "\n",
        "Ahora, consideremos la EDO lineal con coeficientes constantes que se presentó en el código:\n",
        "\n",
        "$$ a_0 y(t) + a_1 \\frac{d y(t)}{dt} + a_2 \\frac{d^2 y(t)}{dt^2} = x(t) $$$$ a_0 y(t) + a_1 \\frac{d y(t)}{dt} + a_2 \\frac{d^2 y(t)}{dt^2} = x(t) $$\n",
        "\n",
        "Cuando la entrada es $x(t) = e^{st}$$x(t) = e^{st}$, sabemos que la salida esperada para un SLIT es $y(t) = \\lambda e^{st}$$y(t) = \\lambda e^{st}$. Para encontrar la relación entre $\\lambda$$\\lambda$ y los coeficientes de la EDO, podemos sustituir $y(t) = \\lambda e^{st}$$y(t) = \\lambda e^{st}$ y sus derivadas en la EDO:\n",
        "\n",
        "$$ a_0 (\\lambda e^{st}) + a_1 \\frac{d}{dt}(\\lambda e^{st}) + a_2 \\frac{d^2}{dt^2}(\\lambda e^{st}) = e^{st} $$$$ a_0 (\\lambda e^{st}) + a_1 \\frac{d}{dt}(\\lambda e^{st}) + a_2 \\frac{d^2}{dt^2}(\\lambda e^{st}) = e^{st} $$\n",
        "\n",
        "Calculando las derivadas: $$ \\frac{d}{dt}(\\lambda e^{st}) = \\lambda s e^{st} $$$$ \\frac{d}{dt}(\\lambda e^{st}) = \\lambda s e^{st} $$ $$ \\frac{d^2}{dt^2}(\\lambda e^{st}) = \\lambda s^2 e^{st} $$$$ \\frac{d^2}{dt^2}(\\lambda e^{st}) = \\lambda s^2 e^{st} $$\n",
        "\n",
        "Sustituyendo de nuevo en la EDO: $$ a_0 \\lambda e^{st} + a_1 \\lambda s e^{st} + a_2 \\lambda s^2 e^{st} = e^{st} $$$$ a_0 \\lambda e^{st} + a_1 \\lambda s e^{st} + a_2 \\lambda s^2 e^{st} = e^{st} $$\n",
        "\n",
        "Podemos factorizar $e^{st}$$e^{st}$ del lado izquierdo: $$ \\lambda (a_0 + a_1 s + a_2 s^2) e^{st} = e^{st} $$$$ \\lambda (a_0 + a_1 s + a_2 s^2) e^{st} = e^{st} $$\n",
        "\n",
        "Dado que $e^{st}$$e^{st}$ no es cero, podemos dividir ambos lados por $e^{st}$$e^{st}$: $$ \\lambda (a_0 + a_1 s + a_2 s^2) = 1 $$$$ \\lambda (a_0 + a_1 s + a_2 s^2) = 1 $$\n",
        "\n",
        "Finalmente, podemos despejar $\\lambda$$\\lambda$: $$ \\lambda = \\frac{1}{a_0 + a_1 s + a_2 s^2} $$$$ \\lambda = \\frac{1}{a_0 + a_1 s + a_2 s^2} $$\n",
        "\n",
        "Esta ecuación muestra la relación entre el valor propio $\\lambda$$\\lambda$ y los coeficientes $a_0, a_1, a_2$$a_0, a_1, a_2$ de la EDO, así como la frecuencia compleja $s$$s$ de la entrada.\n",
        "\n",
        "Cuando resuelves la EDO directamente con una herramienta como sympy.dsolve para la entrada $x(t) = e^{st}$$x(t) = e^{st}$, la solución que obtienes (después de descartar las constantes de integración, que corresponden a la respuesta del sistema a las condiciones iniciales, no a la respuesta forzada por la entrada) tendrá la forma $y(t) = C e^{st}$$y(t) = C e^{st}$. Comparando esto con $y(t) = \\lambda e^{st}$$y(t) = \\lambda e^{st}$, verás que la constante $C$$C$ que obtienes de la solución de la EDO es precisamente igual a $\\lambda$$\\lambda$.\n",
        "\n",
        "Ejercicio 2: Generalización a una EDO de orden arbitrario\n",
        "\n",
        "El enfoque que utilizamos para la EDO de segundo orden se puede generalizar a una EDO lineal de cualquier orden $n$$n$ con coeficientes constantes:\n",
        "\n",
        "$$ a_0 y(t) + a_1 \\frac{d y(t)}{dt} + \\dots + a_n \\frac{d^n y(t)}{dt^n} = x(t) $$$$ a_0 y(t) + a_1 \\frac{d y(t)}{dt} + \\dots + a_n \\frac{d^n y(t)}{dt^n} = x(t) $$\n",
        "\n",
        "Si la entrada es $x(t) = e^{st}$$x(t) = e^{st}$, la salida esperada para un SLIT es $y(t) = \\lambda e^{st}$$y(t) = \\lambda e^{st}$. Al igual que antes, sustituimos esta forma de $y(t)$$y(t)$ y sus derivadas en la EDO. La $k$$k$-ésima derivada de $y(t)$$y(t)$ con respecto a $t$$t$ es $\\frac{d^k}{dt^k}(\\lambda e^{st}) = \\lambda s^k e^{st}$$\\frac{d^k}{dt^k}(\\lambda e^{st}) = \\lambda s^k e^{st}$.\n",
        "\n",
        "Sustituyendo en la EDO general:\n",
        "\n",
        "$$ a_0 (\\lambda e^{st}) + a_1 (\\lambda s e^{st}) + \\dots + a_n (\\lambda s^n e^{st}) = e^{st} $$$$ a_0 (\\lambda e^{st}) + a_1 (\\lambda s e^{st}) + \\dots + a_n (\\lambda s^n e^{st}) = e^{st} $$\n",
        "\n",
        "Factorizando $\\lambda e^{st}$$\\lambda e^{st}$: $$ \\lambda (a_0 + a_1 s + \\dots + a_n s^n) e^{st} = e^{st} $$$$ \\lambda (a_0 + a_1 s + \\dots + a_n s^n) e^{st} = e^{st} $$\n",
        "\n",
        "Dividiendo por $e^{st}$$e^{st}$: $$ \\lambda (a_0 + a_1 s + \\dots + a_n s^n) = 1 $$$$ \\lambda (a_0 + a_1 s + \\dots + a_n s^n) = 1 $$\n",
        "\n",
        "Despejando $\\lambda$$\\lambda$: $$ \\lambda = \\frac{1}{a_0 + a_1 s + \\dots + a_n s^n} $$$$ \\lambda = \\frac{1}{a_0 + a_1 s + \\dots + a_n s^n} $$\n",
        "\n",
        "Esta expresión generalizada para $\\lambda$$\\lambda$ se conoce como la función de transferencia del sistema en el dominio de Laplace, denotada como $H(s)$$H(s)$. La función de transferencia es una herramienta fundamental para analizar SLIT porque describe completamente cómo el sistema responde a diferentes frecuencias complejas. La función de transferencia es esencialmente la transformada de Laplace de la respuesta al impulso del sistema.\n",
        "\n",
        "En resumen, para una EDO lineal de orden arbitrario con coeficientes constantes que describe un SLIT, el valor propio $\\lambda$$\\lambda$ asociado a la autofunción $e^{st}$$e^{st}$ es igual a la función de transferencia del sistema evaluada en $s$$s$, es decir, $H(s)$$H(s)$."
      ]
    },
    {
      "cell_type": "code",
      "metadata": {
        "id": "p4Cx0bm4vWzz",
        "colab": {
          "base_uri": "https://localhost:8080/",
          "height": 38
        },
        "outputId": "27499a88-f526-4564-b1ea-90986b89df25"
      },
      "source": [
        "ode = sym.Eq(t*y.diff(t), x)\n",
        "solution = sym.dsolve(ode)\n",
        "solution.subs('C1', 0)"
      ],
      "execution_count": 2,
      "outputs": [
        {
          "output_type": "execute_result",
          "data": {
            "text/plain": [
              "y(t) = Ei(s⋅t)"
            ],
            "text/latex": "$\\displaystyle y{\\left(t \\right)} = \\operatorname{Ei}{\\left(s t \\right)}$"
          },
          "metadata": {},
          "execution_count": 2
        }
      ]
    },
    {
      "cell_type": "markdown",
      "metadata": {
        "id": "6RqQu0A8vWz9"
      },
      "source": [
        "Observe que, $\\text{Ei}(\\cdot)$ denota una [integral exponencial](http://docs.sympy.org/latest/modules/functions/special.html#sympy.functions.special.error_functions.Ei). La respuesta $y(t)$ del sistema variante en el tiempo no es igual a una señal exponencial compleja ponderada ($\\lambda \\cdot e^{st}$). Se puede concluir que las exponenciales complejas no son funciones propias de este sistema particular."
      ]
    },
    {
      "cell_type": "markdown",
      "metadata": {
        "id": "R_jox20UvWz_"
      },
      "source": [
        "**Ejemplo**\n",
        "\n",
        "Un último ejemplo considera la siguiente EDO no lineal con coeficientes:\n",
        "\n",
        "\\begin{equation}\n",
        "\\left( \\frac{d y(t)}{dt} \\right)^2 = x(t)\n",
        "\\end{equation}\n",
        "\n",
        "Como ejemplo para un sistema no lineal e invariante en el tiempo. Nuevamente, la señal de salida $y(t)$ del sistema ante una señal exponencial compleja en la entrada $x(t)=e^{st}$ se calcula mediante la solución explícita de la EDO. Como antes, las constantes de integración se descartan."
      ]
    },
    {
      "cell_type": "code",
      "metadata": {
        "id": "2d9gKKJQvW0C",
        "colab": {
          "base_uri": "https://localhost:8080/",
          "height": 68
        },
        "outputId": "73848704-8cf3-4fa3-cc2d-25ba2f86cf49"
      },
      "source": [
        "ode = sym.Eq(y.diff(t)**2, x)\n",
        "solution = sym.dsolve(ode)\n",
        "solution[0].subs('C1',0)"
      ],
      "execution_count": 3,
      "outputs": [
        {
          "output_type": "execute_result",
          "data": {
            "text/plain": [
              "       ⎧      ______            \n",
              "       ⎪     ╱  s⋅t             \n",
              "       ⎪-2⋅╲╱  ℯ                \n",
              "y(t) = ⎨─────────────  for s ≠ 0\n",
              "       ⎪      s                 \n",
              "       ⎪                        \n",
              "       ⎩     -t        otherwise"
            ],
            "text/latex": "$\\displaystyle y{\\left(t \\right)} = \\begin{cases} - \\frac{2 \\sqrt{e^{s t}}}{s} & \\text{for}\\: s \\neq 0 \\\\- t & \\text{otherwise} \\end{cases}$"
          },
          "metadata": {},
          "execution_count": 3
        }
      ]
    },
    {
      "cell_type": "markdown",
      "metadata": {
        "id": "OFHuq1MZvW0N"
      },
      "source": [
        "Obviamente, para este sistema no lineal, las señales exponenciales complejas no son funciones propias."
      ]
    },
    {
      "cell_type": "markdown",
      "metadata": {
        "id": "YUZcn_o9vW0P"
      },
      "source": [
        "## Función de Transferencia\n",
        "\n",
        "El valor propio complejo $\\lambda$ caracteriza las propiedades de la transferencia de una señal exponencial compleja $e^{st} $ con una frecuencia compleja $s$ a través de un SLTI.\n",
        "\n",
        "Se denomina comúnmente como [*función de transferencia*](https://en.wikipedia.org/wiki/Transfer_function) y se denota por $H(s)=\\lambda(s)$. Usando esta definición, la señal de salida $y(t)$ de un SLIT ante una señal exponencial compleja en la entrada, se tiene que\n",
        "\n",
        "\\begin{equation}\n",
        "y(t) = \\mathscr{H} \\{ e^{st} \\} = H(s) \\cdot e^{st}\n",
        "\\end{equation}\n",
        "\n",
        "Tenga en cuenta que el concepto de función de transferencia está directamente vinculado a la linealidad y la invariancia en el tiempo de un sistema. Solo en este caso, las señales exponenciales complejas son funciones propias del sistema y $H(s)$ describe las propiedades de un SLIT con respecto a éstas.\n",
        "\n",
        "La ecuación anterior se puede reescribir en términos de la magnitud $|H(s)|$ y fase $\\varphi(s)=\\arg\\{H(s)\\}$ de la función de transferencia compleja $H(s)$\n",
        "\n",
        "\\begin{equation}\n",
        "y(t) = | H(s) | \\cdot e^{s t + j \\varphi(s)}\n",
        "\\end{equation}\n",
        "\n",
        "La magnitud $|H(s)|$ proporciona una atenuación dependiente de la frecuencia de la función propia $e^{st}$ por el sistema, mientras que $\\varphi(s)$ proporciona el cambio de fase introducido en la señal de entrada."
      ]
    },
    {
      "cell_type": "markdown",
      "metadata": {
        "id": "4P4AJvKsvW0S"
      },
      "source": [
        "## Relación entre función de transferencia y respuesta al impulso\n",
        "\n",
        "Para establecer la relación entre la función de transferencia $H(s)$ y la respuesta al impulso $h(t)$, se obtiene la salida $y(t)=\\mathscr{H}\\{x(t)\\}$ de un SLIT con señal de entrada $x(t)$, mediante la convolución de la señal de entrada con la respuesta de impulso:\n",
        "\n",
        "\\begin{equation}\n",
        "y(t) = x(t) * h(t) = \\int_{-\\infty}^{\\infty} x(t-\\tau) \\cdot h(\\tau) \\; d\\tau\n",
        "\\end{equation}\n",
        "\n",
        "Para una señal exponencial compleja como entrada $x(t)=e^{st}$, la salida de un SLIT se cálcula como $y(t)=\\mathscr{H} \\{e^{st}\\}=H(s)\\cdot e^{st}$.\n",
        "\n",
        "Introduciendo ambas señales en la convolución se tiene que:\n",
        "\n",
        "\\begin{equation}\n",
        "H(s) \\cdot e^{st} = \\int_{-\\infty}^{\\infty} e^{st} e^{-s \\tau} \\cdot h(\\tau) \\; d\\tau\n",
        "\\end{equation}\n",
        "\n",
        "Que después de reorganizar los términos resulta en\n",
        "\n",
        "\\begin{equation}\n",
        "H(s) = \\int_{-\\infty}^{\\infty} h(\\tau) \\cdot e^{-s \\tau}  \\; d\\tau\n",
        "\\end{equation}\n",
        "\n",
        "bajo el supuesto de que la integral converge.\n",
        "\n",
        "La función de transferencia $H(s)$ se puede calcular a partir de la respuesta de impulso $h(t)$ mediante la integración de la respuesta de impulso multiplicada por la función exponencial compleja $e^{-st}$.\n",
        "\n",
        "Esto constituye una transformada integral de la respuesta al impulso, la [transformada de Laplace](https://en.wikipedia.org/wiki/Laplace_transform)."
      ]
    },
    {
      "cell_type": "markdown",
      "metadata": {
        "nbsphinx": "hidden",
        "id": "lnyDWU4SvW0T"
      },
      "source": [
        "**Copyright**\n",
        "\n",
        "The notebooks are provided as [Open Educational Resource](https://de.wikipedia.org/wiki/Open_Educational_Resources). Feel free to use the notebooks for your own educational purposes. The text is licensed under [Creative Commons Attribution 4.0](https://creativecommons.org/licenses/by/4.0/), the code of the IPython examples under the [MIT license](https://opensource.org/licenses/MIT). Please attribute the work as follows: *Lecture Notes on Signals and Systems* by Sascha Spors."
      ]
    }
  ]
}